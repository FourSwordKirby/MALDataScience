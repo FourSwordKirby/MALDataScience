{
 "cells": [
  {
   "cell_type": "code",
   "execution_count": 2,
   "metadata": {
    "collapsed": false
   },
   "outputs": [],
   "source": [
    "%matplotlib inline\n",
    "import matplotlib.pyplot as plt\n",
    "plt.style.use(\"ggplot\")\n",
    "import pandas as pd\n",
    "import numpy as np\n",
    "import matplotlib\n",
    "from IPython.display import *\n",
    "\n",
    "import AssembleData"
   ]
  },
  {
   "cell_type": "code",
   "execution_count": 3,
   "metadata": {
    "collapsed": false
   },
   "outputs": [],
   "source": [
    "\n",
    "# Build Dataframe \n",
    "#MAL_df, all_genre  = AssembleData.read_files_all(verbose=True)\n",
    "#MAL_df = MAL_df.drop_duplicates('id')"
   ]
  },
  {
   "cell_type": "code",
   "execution_count": 4,
   "metadata": {
    "collapsed": false
   },
   "outputs": [],
   "source": [
    "import pickle\n",
    "\n",
    "#MAL_df = MAL_df.drop_duplicates('id')\n",
    "#with open('augmented_1998_2015_data.pkl', 'w') as f:\n",
    "#    pickle.dump(MAL_df, f)\n",
    "#    pickle.dump(all_genre, f)\n",
    "\n",
    "with open('augmented_1998_2015_data.pkl', 'r') as f:\n",
    "    MAL_df = pickle.load(f)\n",
    "    all_genre = pickle.load(f)"
   ]
  },
  {
   "cell_type": "code",
   "execution_count": 5,
   "metadata": {
    "collapsed": true
   },
   "outputs": [],
   "source": [
    "def only_genre(g):\n",
    "    return MAL_df[MAL_df[g] == 1]"
   ]
  },
  {
   "cell_type": "markdown",
   "metadata": {
    "collapsed": false
   },
   "source": []
  },
  {
   "cell_type": "code",
   "execution_count": 6,
   "metadata": {
    "collapsed": false,
    "scrolled": false
   },
   "outputs": [],
   "source": [
    "def get_std(entry):\n",
    "    #print entry\n",
    "    scores = []\n",
    "    scores.append([10] * entry[\"score_10_votes\"])\n",
    "    scores.append([9] * entry[\"score_9_votes\"])\n",
    "    scores.append([8] * entry[\"score_8_votes\"])\n",
    "    scores.append([7] * entry[\"score_7_votes\"])\n",
    "    scores.append([6] * entry[\"score_6_votes\"])\n",
    "    scores.append([5] * entry[\"score_5_votes\"])\n",
    "    scores.append([4] * entry[\"score_4_votes\"])\n",
    "    scores.append([3] * entry[\"score_3_votes\"])\n",
    "    scores.append([2] * entry[\"score_2_votes\"])\n",
    "    scores.append([1] * entry[\"score_1_votes\"])\n",
    "\n",
    "    scores = [val for sublist in scores for val in sublist]\n",
    "\n",
    "    #print scores\n",
    "    return np.std(scores)\n",
    "\n",
    "def get_df_std(df):\n",
    "    scores = []\n",
    "    for idx, entry in df.iterrows():\n",
    "        scores.append([10] * entry[\"score_10_votes\"])\n",
    "        scores.append([9] * entry[\"score_9_votes\"])\n",
    "        scores.append([8] * entry[\"score_8_votes\"])\n",
    "        scores.append([7] * entry[\"score_7_votes\"])\n",
    "        scores.append([6] * entry[\"score_6_votes\"])\n",
    "        scores.append([5] * entry[\"score_5_votes\"])\n",
    "        scores.append([4] * entry[\"score_4_votes\"])\n",
    "        scores.append([3] * entry[\"score_3_votes\"])\n",
    "        scores.append([2] * entry[\"score_2_votes\"])\n",
    "        scores.append([1] * entry[\"score_1_votes\"])\n",
    "\n",
    "    scores = [val for sublist in scores for val in sublist]\n",
    "\n",
    "    #print scores\n",
    "    return np.std(scores)\n"
   ]
  },
  {
   "cell_type": "code",
   "execution_count": 7,
   "metadata": {
    "collapsed": false
   },
   "outputs": [],
   "source": [
    "MAL_df[\"std\"]  = MAL_df.apply(lambda x: get_std(x), axis = 1)\n",
    "MAL_df['length'] = MAL_df['duration'] * MAL_df['episodes']\n",
    "MAL_df['studios'] = MAL_df['studios'].apply(lambda s: eval(s))\n",
    "MAL_df['aired_start'] = pd.to_datetime(MAL_df['aired_start'])\n",
    "\n",
    "#print MAL_df.head()"
   ]
  },
  {
   "cell_type": "code",
   "execution_count": 44,
   "metadata": {
    "collapsed": true
   },
   "outputs": [],
   "source": [
    "sig_length = MAL_df[MAL_df['length'] > 30]\n",
    "\n",
    "stat_df = sig_length[sig_length['score_users'] > 20000]\n",
    "stat_df = stat_df.reset_index()"
   ]
  },
  {
   "cell_type": "code",
   "execution_count": 55,
   "metadata": {
    "collapsed": false
   },
   "outputs": [
    {
     "name": "stdout",
     "output_type": "stream",
     "text": [
      "[5, 17205, 4037]\n",
      "64    Cowboy Bebop: Tengoku no Tobira\n",
      "Name: title, dtype: object\n"
     ]
    }
   ],
   "source": [
    "print stat_df.iloc[0]['related_ids']\n",
    "\n",
    "#stat_df = stat_df.set_index(['id'])\n",
    "#print stat_df.index\n",
    "\n",
    "for idx in eval(stat_df.iloc[0]['related_ids']):\n",
    "    if (len(stat_df[stat_df['id']==idx]['title']) > 0):\n",
    "        print stat_df[stat_df['id']==idx]['title']\n",
    "        #DO MERING HERE\n",
    "\n",
    "#stat_df.iloc[0]['title']"
   ]
  },
  {
   "cell_type": "code",
   "execution_count": null,
   "metadata": {
    "collapsed": true
   },
   "outputs": [],
   "source": []
  }
 ],
 "metadata": {
  "anaconda-cloud": {},
  "kernelspec": {
   "display_name": "Python [Root]",
   "language": "python",
   "name": "Python [Root]"
  },
  "language_info": {
   "codemirror_mode": {
    "name": "ipython",
    "version": 2
   },
   "file_extension": ".py",
   "mimetype": "text/x-python",
   "name": "python",
   "nbconvert_exporter": "python",
   "pygments_lexer": "ipython2",
   "version": "2.7.12"
  }
 },
 "nbformat": 4,
 "nbformat_minor": 0
}
