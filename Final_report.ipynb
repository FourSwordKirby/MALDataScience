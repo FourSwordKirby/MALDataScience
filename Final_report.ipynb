{
 "cells": [
  {
   "cell_type": "markdown",
   "metadata": {},
   "source": [
    "# 15-388 Final Project \n",
    "\n",
    "#### Group Members \n",
    "Stephen Chen, Sean Reidy, Roger Liu"
   ]
  },
  {
   "cell_type": "markdown",
   "metadata": {},
   "source": [
    "## Introduction\n",
    "**Anime**, or Japanese Animation, commonly refers to animated television shows which originate from Japan. The medium contains shows spanning a vast number of genres, with shows geared towards children, such as *Pokemon*, to content aimed at young adults, such as *Full Metal Alchemist*. Some titles are produced directly as television original shows, while many others are adaptations of existing source material, such as from Japanese novels, manga (comics), or even games. Anime titles often run for one or two “seasons,” airing one episode a week, totalling to a 13- or 26- episodes “series.” Unlike many American television series, animes are announced upfront that they will only run for one or two season, rather than running until discontinued by the broadcaster.\n",
    "\n",
    "\n",
    "**MyAnimeList** (abbreviated MAL) is an information database website about anime, much like how *IMDb* is a database for movies. It provides metadata about anime titles, such as synopses, the involved production companies, and genres (e.g. “Action” or “Comedy”). Registred users of MAL can rate and review the animes they’ve watched, which MAL then aggregates into a public score from 1 to 10. As such, MAL serves as a useful indicator of which shows are “good” in the community’s eyes, as well as which shows are “famous.”\n",
    "\n",
    "\n",
    "In the past years, with the rise of the Internet, the worldwide community of anime watchers grew larger and more defined, while the anime industry became increasingly aware of its audience. Tropes, or patterns in storytelling and character archetypes, developed to fit fan expectations. But as these tropes were reused over many titles, viewers became increasingly wary of “cookie-cutter” shows, many of which ended up forgotten in the mass of “average” shows. In this context, certain animation studios made their claim to fame by either breaking traditions or producing similar shows but of better technical quality. Long time watchers of anime eventually developed a natural intuition for which shows would be “average” or “good” just from the shows’ descriptions and production studios. These notions motivated the idea that there are some underlying trends in the anime medium.\n",
    "\n",
    "\n",
    "Our project focused on discovering the underlying patterns of anime and of the anime community by performing data analysis on MAL. We first developed a web scraper which retrieved most of the metadata available on an anime title’s webpage. We then performed data exploration with the purpose of identifying trends within the metadata and exploring relationships between metadata and user scores. We explored trends within each genre, identified patterns within synopsis text, and analyzed the impact of the production studio and source material on popularity. Finally, we addressed the question: “Can we predict the MAL score for an anime title given its metadata?” Our investigation showed that prediction of score is impossible. Instead, we discovered that we can classify which titles are “above average” just from a title’s production studio, genres, source material and length.\n",
    "\n"
   ]
  },
  {
   "cell_type": "markdown",
   "metadata": {},
   "source": [
    "## Data Collection\n",
    "The scraper we wrote pulled information from all shows that were airing between 1998 to 2015. We did this by iterating through each broadcasting season (winter, spring, summer, fall) between those years and pulling metadata for each anime still airing during that time frame. The information was saved as a JSON, giving each title its own file identified by its MAL ID.\n",
    "\n",
    "User contributions to MAL work as follows. Registered users each have an *AnimeList*, which is an individual profile that allows them to keep track of animes they have seen or plan to watch. Each anime entry added to the list can be labelled as “Completed”, “Watching”, “Plan to Watch”, “On-Hold”, and “Dropped”. Users can score an anime on an integer scale of 1 to 10 if the title is listed as “Completed” or “Watching” on their AnimeList. A page on MAL for an anime title consists of two user aggregates: **score** and **members**. Score is the average of scores users have given a particular title. Members is the total number of users who have added the anime to their AnimeList; this includes titles listed under “Plan to Watch”, “On-Hold”, and “Dropped”.\n",
    "\n",
    "Intuitively, score represents how “good” an anime is, as judged by MAL users. Members is an approximation for how “famous” a show is. \n",
    "\n",
    "Following is all data fields that appear in the JSON:\n",
    "\n",
    "![“Fields”](images/fields.png)"
   ]
  },
  {
   "cell_type": "markdown",
   "metadata": {},
   "source": [
    "### Additional Fields\n",
    "We computed some additional fields during our data exploration:\n",
    "\n",
    "![“More Fields”](images/more_fields.png)"
   ]
  },
  {
   "cell_type": "markdown",
   "metadata": {},
   "source": [
    "## Exploration"
   ]
  },
  {
   "cell_type": "markdown",
   "metadata": {
    "collapsed": true
   },
   "source": [
    "### Initial Exploratory Data Analysis(Sean)"
   ]
  },
  {
   "cell_type": "markdown",
   "metadata": {},
   "source": [
    "### Score and Members\n",
    "Scores and member count are intuitively correlated. The better a show, the more people are likely to have heard about it (and add it to their AnimeList).\n",
    "\n",
    "\n",
    "![“Scores vs Members”](images/scores_v_members.png)\n",
    "\n",
    "\n",
    "Our graphic here shows a few interesting points. The major point related to our analysis is that there are a few data points which hit score exactly 0 or 10. This poses the problem that titles with lower number of users ratings can be heavily skewed. We address this in later analysis by using a new “bayes_score” field which normalizes the score to [0.0, 1.0] and adds an additional score of 0 and 1 to balance out the low number of scores.\n",
    "\n",
    "\n",
    "In anime context, there are a few curious outlier which have high member count despite low scores. These are School Days and Pupa, which are notoriously violent animes. The incredible violence has drawn much attention despite their lack of substance. In addition, there seems to be a score threshold around 7.0: if an anime does not score at least 7.0, it will never become majorly popular on MAL. Alternatively, if an anime is popular on MAL, it should have a score of at least 7.0."
   ]
  },
  {
   "cell_type": "markdown",
   "metadata": {
    "collapsed": true
   },
   "source": [
    "### Genre Analysis\n",
    "\n",
    "![“Genre user plot”](images/genre_show_score_dist.png)"
   ]
  },
  {
   "cell_type": "markdown",
   "metadata": {},
   "source": [
    "### Standard Deviations in Genres\n",
    "\n",
    "![“Genre std”](images/genre_top_std.png) ![“Genre std”](images/genre_bot_std.png)\n",
    "\n",
    "\n",
    "![“Genre user plot”](images/genre_user_score_dist.png)\n",
    "Something interesting to note is that while the distribution of scores among shows is fairly normal, the distribution amoung users is strongly heavy tailed. Also interesting to note is that the genres which we found to be the most highly rated have a significantly large set of 9 and 10 scores rather than simply a peak of 8’s and 9’s."
   ]
  },
  {
   "cell_type": "markdown",
   "metadata": {},
   "source": [
    "### Impact of Genre on Score"
   ]
  },
  {
   "cell_type": "markdown",
   "metadata": {},
   "source": [
    "### Impact of Studios on Score\n",
    "\n",
    "The *studios* field consists of the animation studio(s) that are primarily responsible for creating an anime. Some studios are recognizable by name in the community either because of how many titles they have released or how well received their titles have been.\n",
    "\n",
    "\n",
    "Our data set features animes from 301 unique producers after collapsing branches of companies into their parent branch. Our first step was to rank the studios by the average scores of the animes they released:\n",
    "\n",
    "\n",
    "![Top 20](images/top_20_studios_all.png)\n",
    "\n",
    "\n",
    "These results were not entirely in line with our personal experience. This is because studios often produce small video animations to advertise their mainline series, and these animations are counted as separate entries on MAL. Many of these are Original Video Animations (OVAs) which are special, unaired single episodes of a title shipped with an anime’s DVD release. These typically score worse than their parent title on MAL since they generally do not advance the parent story’s plot. We decided to filter these short entries out because they do not represent a studio as well as their parent counterparts. We did this by removing all entries that were less than 30 minutes long.\n",
    "\n",
    "\n",
    "![Top 20](images/top_20_studios_sig.png)\n",
    "\n",
    "\n",
    "This was more in line with our expectations. Some studio’s scores were even raised as a result. *Studio Ghibli*, which some western fans recognize as the creators of *Spirited Away* and *Princess Mononoke*, also enters into the list. Particularly interesting are the studios which have high average score despite producing more than 5 titles. This indicates consistent quality from a studio, and suggests that an anime’s score can be inferred based on the prestige of the studio making it.\n"
   ]
  },
  {
   "cell_type": "markdown",
   "metadata": {},
   "source": [
    "### Impact of Source Material on Score\n",
    "Some animes are created directly for television. Many others are based on some source material, such as an existing manga or novel.\n",
    "\n",
    "\n",
    "![source](images/source_hist.png)\n",
    "\n",
    "\n",
    "Our histogram tells us that anime original shows tend to hover around 7, shows based on manga (Japanese comics) or light novels (chapter books) hover slightly higher than 7, and shows based on visual novels (interactive storytelling video games) generally sit below 7. Considering that a scores from 6.7 to 8.0 account for about 45% of all titles, the source material is likely be a telling factor in how well a show is received on MAL.\n",
    "Contextually, we interpret the correlation as follows. Light novels adaptations are highly rated because each novel in a series tells a complete, self-sustaining story which converts well into the short timeframe of 13-episode anime adaptation. These animes usually end with all plot points addressed and without cliffhangers, which leaves viewers satisfied with the anime. Meanwhile, manga adaptations often occur because the source manga is already popular. Thus the anime is also likely to be well received. In contrast, visual novels adaptation tend to suffer because they remove the interactive aspect of the original storytelling game. Moreover, visual novels title typically are not as popular as mangas. Companies only produce these adaptations because the fanbase, although small, is usually dedicated and willing to invest in subsequent merchandise.\n"
   ]
  },
  {
   "cell_type": "markdown",
   "metadata": {},
   "source": [
    "### Synopsis Text Analysis (Sean)"
   ]
  },
  {
   "cell_type": "markdown",
   "metadata": {},
   "source": [
    "### Collecting Sequels and Related Entries into Their Parent Title\n",
    "When perusing through various shows on MyAnimeList, we found that many shows had sequels and related works listed underneath them. In addition, we noticed that multiple works from the same overall series ended up near the top of our various metrics. With this in mind, we decided to see what would happen if we were to works into their singular parent series. \n",
    "\n",
    "\n",
    "To do this, we took all of the works we collected and sorted them by number of members. This would make it so that series were denoted by their most popular work.We then iterated through this list. For each work, we recursively found the id’s of its the related works to form a series that encapsulated all of those works. We put these series into a into a new dataframe. A show was deemed to be related if it’s parent has a has a link pointing to it and it has a link pointing to its parent. We made sure to never include the id of a show that already belonged to another series.\n",
    "\n",
    "\n",
    "In collapsing the data we found the following results. \n",
    "    [No filter top shows]\n",
    "\n",
    "\n",
    "    (comments about alignment, include counts of shows collapsed)\n",
    "\n",
    "\n",
    "When removing all “insignificant” works (defined previously) we get the following\n",
    "    [top shows]\n",
    "\n",
    "\n",
    "    (comments about alignment, include counts of shows collapsed). The degree to which shows were collapsed is not too surprising, as it suggests that about 1 in 3 works gets a second season, movie, or a significant set of DVD extras. \n"
   ]
  },
  {
   "cell_type": "markdown",
   "metadata": {},
   "source": [
    "## Conclusion\n"
   ]
  },
  {
   "cell_type": "markdown",
   "metadata": {},
   "source": [
    "## Future Work:(Sean add more)\n",
    "    Through our analysis, we were able to discover interesting trends that underlie anime and the community that surround it. In addition, the classifier we developed was able to identify good anime from bad anime. Future work that can be done in this field would be to utilize the vast amounts of user recommendations and communities that exist on MyAnimeList. By leveraging these data sources, we could potentially figure out which works are derivative and which works are “original”. In addition, MyAnimeList also stores information about the characters that appear in shows, allowing users to add them to a list of favorites. By leveraging the information stored in these profiles, we could potentially determine traits that make characters “popular”."
   ]
  },
  {
   "cell_type": "code",
   "execution_count": null,
   "metadata": {
    "collapsed": true
   },
   "outputs": [],
   "source": []
  },
  {
   "cell_type": "code",
   "execution_count": null,
   "metadata": {
    "collapsed": true
   },
   "outputs": [],
   "source": []
  },
  {
   "cell_type": "code",
   "execution_count": null,
   "metadata": {
    "collapsed": true
   },
   "outputs": [],
   "source": []
  },
  {
   "cell_type": "code",
   "execution_count": null,
   "metadata": {
    "collapsed": true
   },
   "outputs": [],
   "source": []
  },
  {
   "cell_type": "code",
   "execution_count": null,
   "metadata": {
    "collapsed": true
   },
   "outputs": [],
   "source": []
  }
 ],
 "metadata": {
  "anaconda-cloud": {},
  "kernelspec": {
   "display_name": "Python [Root]",
   "language": "python",
   "name": "Python [Root]"
  },
  "language_info": {
   "codemirror_mode": {
    "name": "ipython",
    "version": 2
   },
   "file_extension": ".py",
   "mimetype": "text/x-python",
   "name": "python",
   "nbconvert_exporter": "python",
   "pygments_lexer": "ipython2",
   "version": "2.7.12"
  }
 },
 "nbformat": 4,
 "nbformat_minor": 0
}
